{
 "cells": [
  {
   "cell_type": "markdown",
   "metadata": {
    "collapsed": false
   },
   "source": [
    "请按实验文档要求，完成实验，并把实验过程和结果贴到本notebook中。\n",
    "\n",
    "(1)请适当加注释\n",
    "\n",
    "(2)写出学习心得。"
   ]
  },
  {
   "cell_type": "markdown",
   "metadata": {
    "collapsed": false
   },
   "source": [
    "# 下载并解压数据集"
   ]
  },
  {
   "cell_type": "code",
   "execution_count": null,
   "metadata": {
    "collapsed": false
   },
   "outputs": [],
   "source": [
    "!wget https://ascend-professional-construction-dataset.obs.myhuaweicloud.com/deep-learning/MNIST.zip \r\n",
    "!unzip MNIST.zip"
   ]
  },
  {
   "cell_type": "markdown",
   "metadata": {
    "collapsed": false
   },
   "source": [
    "![](https://ai-studio-static-online.cdn.bcebos.com/9ced0dafb05347cb906af332b8d8e59612529865c19a43909858c972f82b34cc)"
   ]
  },
  {
   "cell_type": "markdown",
   "metadata": {
    "collapsed": false
   },
   "source": [
    "# 导包"
   ]
  },
  {
   "cell_type": "code",
   "execution_count": null,
   "metadata": {
    "collapsed": false
   },
   "outputs": [],
   "source": [
    "import os\r\n",
    "# os.environ['DEVICE_ID'] = '0'\r\n",
    "import numpy as np\r\n",
    "import mindspore as ms\r\n",
    "#导入mindspore中context模块，用于配置当前执行环境，包括执行模式等特性。\r\n",
    "import mindspore.context as context\r\n",
    "#c_transforms模块提供常用操作，包括OneHotOp和TypeCast\r\n",
    "import mindspore.dataset.transforms.c_transforms as C\r\n",
    "#vision.c_transforms模块是处理图像增强的高性能模块，用于数据增强图像数据改进训练模型。\r\n",
    "import mindspore.dataset.vision.c_transforms as CV\r\n",
    "\r\n",
    "from mindspore import nn\r\n",
    "from mindspore.train import Model\r\n",
    "from mindspore.train.callback import LossMonitor\r\n",
    "# 设置MindSpore的执行模式和设备\r\n",
    "context.set_context(mode=context.GRAPH_MODE, device_target='Ascend') # Ascend, CPU, GPU"
   ]
  },
  {
   "cell_type": "markdown",
   "metadata": {
    "collapsed": false
   },
   "source": [
    "# 对数据进行预处理"
   ]
  },
  {
   "cell_type": "code",
   "execution_count": null,
   "metadata": {
    "collapsed": false
   },
   "outputs": [],
   "source": [
    "def create_dataset(data_dir, training=True, batch_size=32, resize=(32, 32),\r\n",
    "                   rescale=1/(255*0.3081), shift=-0.1307/0.3081, buffer_size=64):\r\n",
    "    data_train = os.path.join(data_dir, 'train') # 训练集信息\r\n",
    "    data_test = os.path.join(data_dir, 'test') # 测试集信息\r\n",
    "    ds = ms.dataset.MnistDataset(data_train if training else data_test)\r\n",
    "    #将操作中的每个操作应用到此数据集。\r\n",
    "    ds = ds.map(input_columns=[\"image\"], operations=[CV.Resize(resize), CV.Rescale(rescale, shift), CV.HWC2CHW()])\r\n",
    "    ds = ds.map(input_columns=[\"label\"], operations=C.TypeCast(ms.int32))\r\n",
    "    # When `dataset_sink_mode=True` on Ascend, append `ds = ds.repeat(num_epochs) to the end\r\n",
    "    ds = ds.shuffle(buffer_size=buffer_size).batch(batch_size, drop_remainder=True)\r\n",
    "\r\n",
    "    return ds"
   ]
  },
  {
   "cell_type": "markdown",
   "metadata": {
    "collapsed": false
   },
   "source": [
    "# 随机取图片展示"
   ]
  },
  {
   "cell_type": "code",
   "execution_count": null,
   "metadata": {
    "collapsed": false
   },
   "outputs": [],
   "source": [
    "import matplotlib.pyplot as plt\r\n",
    "ds = create_dataset('MNIST', training=False)\r\n",
    "data = ds.create_dict_iterator().__next__()\r\n",
    "images = data['image'].asnumpy()\r\n",
    "labels = data['label'].asnumpy()\r\n",
    "#显示前4张图片以及对应标签\r\n",
    "for i in range(1, 5):\r\n",
    "    plt.subplot(2, 2, i)\r\n",
    "    plt.imshow(images[i][0])\r\n",
    "    plt.title('Number: %s' % labels[i])\r\n",
    "    plt.xticks([])\r\n",
    "plt.show()"
   ]
  },
  {
   "cell_type": "markdown",
   "metadata": {
    "collapsed": false
   },
   "source": [
    "![](https://ai-studio-static-online.cdn.bcebos.com/3aeaaaeff89341e8b56ba54faaa76c37f4d873ecd44f44a8926fec3ae7c83177)"
   ]
  },
  {
   "cell_type": "markdown",
   "metadata": {
    "collapsed": false
   },
   "source": [
    "# 定义LeNet模型"
   ]
  },
  {
   "cell_type": "code",
   "execution_count": null,
   "metadata": {
    "collapsed": false
   },
   "outputs": [],
   "source": [
    "class LeNet5(nn.Cell):\r\n",
    "    def __init__(self):\r\n",
    "        super(LeNet5, self).__init__()\r\n",
    "        #设置卷积网络（输入输出通道数，卷积核尺寸，步长，填充方式）\r\n",
    "        self.conv1 = nn.Conv2d(1, 6, 5, stride=1, pad_mode='valid')\r\n",
    "        self.conv2 = nn.Conv2d(6, 16, 5, stride=1, pad_mode='valid')\r\n",
    "        self.relu = nn.ReLU()\r\n",
    "        self.pool = nn.MaxPool2d(kernel_size=2, stride=2)\r\n",
    "        self.flatten = nn.Flatten()\r\n",
    "        self.fc1 = nn.Dense(400, 120)\r\n",
    "        self.fc2 = nn.Dense(120, 84)\r\n",
    "        self.fc3 = nn.Dense(84, 10)\r\n",
    "    #构建网络\r\n",
    "    def construct(self, x):\r\n",
    "        x = self.relu(self.conv1(x))\r\n",
    "        x = self.pool(x)\r\n",
    "        x = self.relu(self.conv2(x))\r\n",
    "        x = self.pool(x)\r\n",
    "        x = self.flatten(x)\r\n",
    "        x = self.fc1(x)\r\n",
    "        x = self.fc2(x)\r\n",
    "        x = self.fc3(x)\r\n",
    "\r\n",
    "        return x"
   ]
  },
  {
   "cell_type": "markdown",
   "metadata": {
    "collapsed": false
   },
   "source": [
    "# 训练数据"
   ]
  },
  {
   "cell_type": "code",
   "execution_count": null,
   "metadata": {
    "collapsed": false
   },
   "outputs": [],
   "source": [
    "def train(data_dir, lr=0.01, momentum=0.9, num_epochs=3):\r\n",
    "    ds_train = create_dataset(data_dir)\r\n",
    "    ds_eval = create_dataset(data_dir, training=False)\r\n",
    "\r\n",
    "    net = LeNet5()\r\n",
    "    #计算softmax交叉熵。\r\n",
    "    loss = nn.loss.SoftmaxCrossEntropyWithLogits(sparse=True, reduction='mean')\r\n",
    "    #设置Momentum优化器\r\n",
    "    opt = nn.Momentum(net.trainable_params(), lr, momentum)\r\n",
    "    loss_cb = LossMonitor(per_print_times=ds_train.get_dataset_size())\r\n",
    "\r\n",
    "    model = Model(net, loss, opt, metrics={'acc', 'loss'})\r\n",
    "    # dataset_sink_mode can be True when using Ascend\r\n",
    "    model.train(num_epochs, ds_train, callbacks=[loss_cb], dataset_sink_mode=True)\r\n",
    "    metrics = model.eval(ds_eval, dataset_sink_mode=True)\r\n",
    "    print('Metrics:', metrics)\r\n",
    "\r\n",
    "train('MNIST')"
   ]
  },
  {
   "cell_type": "markdown",
   "metadata": {
    "collapsed": false
   },
   "source": [
    "![](https://ai-studio-static-online.cdn.bcebos.com/91669b0ac96442e688d254986f779717fd0ccb478bf84864941e046f3dfb5ade)"
   ]
  }
 ],
 "metadata": {
  "kernelspec": {
   "display_name": "Python 3",
   "language": "python",
   "name": "py35-paddle1.2.0"
  },
  "language_info": {
   "codemirror_mode": {
    "name": "ipython",
    "version": 3
   },
   "file_extension": ".py",
   "mimetype": "text/x-python",
   "name": "python",
   "nbconvert_exporter": "python",
   "pygments_lexer": "ipython3",
   "version": "3.7.4"
  }
 },
 "nbformat": 4,
 "nbformat_minor": 1
}
